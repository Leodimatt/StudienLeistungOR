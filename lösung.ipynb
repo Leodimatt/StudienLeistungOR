{
 "cells": [
  {
   "cell_type": "code",
   "id": "initial_id",
   "metadata": {
    "collapsed": true,
    "ExecuteTime": {
     "end_time": "2025-07-09T16:32:54.459151Z",
     "start_time": "2025-07-09T16:32:54.161103Z"
    }
   },
   "source": [
    "import numpy as np\n",
    "import pandas as pd"
   ],
   "outputs": [],
   "execution_count": 10
  },
  {
   "cell_type": "markdown",
   "id": "aaa2d53572a0549b",
   "metadata": {},
   "source": [
    "### Aufgabe 1\n",
    "Format für products: Name, Preis, Gewicht"
   ]
  },
  {
   "cell_type": "code",
   "id": "63250c595d9a2024",
   "metadata": {
    "ExecuteTime": {
     "end_time": "2025-07-09T16:32:55.185636Z",
     "start_time": "2025-07-09T16:32:55.182789Z"
    }
   },
   "source": [
    "products = np.array([\"Edelstein\",\"Epoxidharz\",\"Kupfer\"])\n",
    "profits = np.array([30, 10, 100])\n",
    "weights = np.array([2, 1, 6])\n",
    "\n"
   ],
   "outputs": [],
   "execution_count": 11
  },
  {
   "cell_type": "code",
   "id": "7a10949925787f8e",
   "metadata": {
    "ExecuteTime": {
     "end_time": "2025-07-09T16:32:56.786293Z",
     "start_time": "2025-07-09T16:32:56.781788Z"
    }
   },
   "source": [
    "# Jedes Szenario wird durchlaufen (BruteForce)\n",
    "def check_constraints(ed, ku, w_total, u_total, w_max, u_max):\n",
    "    return ku <= 2 * ed and w_total <= w_max and u_total <= u_max\n",
    "\n",
    "def optimize(u_max, w_max):\n",
    "    results = []\n",
    "    u_max = u_max\n",
    "    for ed in range(u_max):\n",
    "        for ep in range(u_max):\n",
    "            for ku in range(u_max):\n",
    "                u_total = ed + ep + ku\n",
    "                w_total = weights[0] * ed + weights[1] * ep + weights[2] * ku\n",
    "                if check_constraints(ed, ku, w_total, u_total, w_max, u_max):\n",
    "                    profit = profits[0] * ed + profits[1] * ep + profits[2] * ku\n",
    "                    results.append({\n",
    "                        \"Gewinn\": profit,\n",
    "                        \"Gewicht\": w_total,\n",
    "                        \"Einheiten\": u_total,\n",
    "                        \"Edelstein\": ed,\n",
    "                        \"Epoxidharz\": ep,\n",
    "                        \"Kupfer\": ku\n",
    "                    })\n",
    "\n",
    "    return results\n"
   ],
   "outputs": [],
   "execution_count": 12
  },
  {
   "cell_type": "code",
   "id": "574ee1be924f5db9",
   "metadata": {
    "ExecuteTime": {
     "end_time": "2025-07-09T16:32:58.483316Z",
     "start_time": "2025-07-09T16:32:58.472536Z"
    }
   },
   "source": [
    "max_units = 15\n",
    "max_weight = 56\n",
    "optimized_products = optimize(max_units, max_weight)\n",
    "df = pd.DataFrame(optimized_products)\n",
    "# Optimized_Products wird nach Gewinn sortiert und es werden nur die \"Top 10\" angezeigt\n",
    "sorted_df = df.sort_values(by=\"Gewinn\", ascending=False).reset_index(drop=True).loc[:10]"
   ],
   "outputs": [],
   "execution_count": 13
  },
  {
   "cell_type": "code",
   "id": "14106d13e666d3fb",
   "metadata": {
    "ExecuteTime": {
     "end_time": "2025-07-09T16:33:00.140935Z",
     "start_time": "2025-07-09T16:33:00.137859Z"
    }
   },
   "source": [
    "print(sorted_df)"
   ],
   "outputs": [
    {
     "name": "stdout",
     "output_type": "stream",
     "text": [
      "    Gewinn  Gewicht  Einheiten  Edelstein  Epoxidharz  Kupfer\n",
      "0      920       56         12          4           0       8\n",
      "1      910       56         14          7           0       7\n",
      "2      900       56         15          6           2       7\n",
      "3      890       55         14          6           1       7\n",
      "4      880       54         13          6           0       7\n",
      "5      880       55         15          5           3       7\n",
      "6      870       54         14          5           2       7\n",
      "7      870       54         15          9           0       6\n",
      "8      860       53         13          5           1       7\n",
      "9      860       54         15          4           4       7\n",
      "10     850       53         14          4           3       7\n"
     ]
    }
   ],
   "execution_count": 14
  },
  {
   "metadata": {},
   "cell_type": "markdown",
   "source": [
    "## Nicht brute-force mit SciPy\n",
    "- Wir gehen hier wieder von 0 aus, das heißt die Variablen von der BruteForce methode müssen vorher gecleared werden"
   ],
   "id": "2f8d17ccb9852aae"
  },
  {
   "metadata": {
    "ExecuteTime": {
     "end_time": "2025-07-10T09:28:10.867623Z",
     "start_time": "2025-07-10T09:28:10.863976Z"
    }
   },
   "cell_type": "code",
   "source": [
    "from scipy.optimize import linprog\n",
    "import numpy as np\n",
    "import pandas as pd"
   ],
   "id": "fa7e138c2b146593",
   "outputs": [],
   "execution_count": 2
  },
  {
   "metadata": {
    "ExecuteTime": {
     "end_time": "2025-07-10T09:31:06.624612Z",
     "start_time": "2025-07-10T09:31:06.614650Z"
    }
   },
   "cell_type": "code",
   "source": [
    "products = np.array([\"Edelstein\", \"Epoxidharz\", \"Kupfer\"])\n",
    "profits = np.array([30, 10, 100])\n",
    "weights = np.array([2, 1, 6])\n",
    "\n",
    "u_max = 15\n",
    "w_max = 56\n",
    "\n",
    "# Da scipy minimiert, müssen Gewinne negativ gesetzt werden!\n",
    "c = -profits\n",
    "\n",
    "# Bedingungen\n",
    "A_ub = np.array([\n",
    "    weights,\n",
    "    np.ones(len(products)), # Summe der Einheiten\n",
    "    [-2, 0, 1] # Kupfer <= 2 * Edelsteine\n",
    "])\n",
    "b_ub = np.array([w_max, u_max, 0])\n",
    "\n",
    "bounds = [(0, None) for _ in products]\n",
    "\n",
    "res = linprog(c, A_ub=A_ub, b_ub=b_ub, bounds=bounds, method=\"highs\")\n",
    "\n",
    "if res.success:\n",
    "    solution = np.floor(res.x)\n",
    "    df = pd.DataFrame({\n",
    "        \"Gewinn\": solution * profits,\n",
    "        \"Produkt\": products,\n",
    "        \"Menge\": solution.astype(int)\n",
    "    })\n",
    "    print(df)\n",
    "    print(f\"Gesamtgewinn: {np.dot(profits, solution)}\")\n",
    "else:\n",
    "    print(\"Fehler: \", res.message)\n"
   ],
   "id": "5b6dfe8ae019c2a8",
   "outputs": [
    {
     "name": "stdout",
     "output_type": "stream",
     "text": [
      "   Gewinn     Produkt  Menge\n",
      "0   120.0   Edelstein      4\n",
      "1     0.0  Epoxidharz      0\n",
      "2   800.0      Kupfer      8\n",
      "Gesamtgewinn: 920.0\n"
     ]
    }
   ],
   "execution_count": 5
  }
 ],
 "metadata": {
  "kernelspec": {
   "display_name": "base",
   "language": "python",
   "name": "python3"
  },
  "language_info": {
   "codemirror_mode": {
    "name": "ipython",
    "version": 3
   },
   "file_extension": ".py",
   "mimetype": "text/x-python",
   "name": "python",
   "nbconvert_exporter": "python",
   "pygments_lexer": "ipython3",
   "version": "3.13.5"
  }
 },
 "nbformat": 4,
 "nbformat_minor": 5
}
