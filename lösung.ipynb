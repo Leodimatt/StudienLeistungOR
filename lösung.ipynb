{
 "cells": [
  {
   "cell_type": "code",
   "id": "initial_id",
   "metadata": {
    "collapsed": true,
    "ExecuteTime": {
     "end_time": "2025-07-09T10:19:30.604648Z",
     "start_time": "2025-07-09T10:19:30.342392Z"
    }
   },
   "source": [
    "import numpy as np\n",
    "import pandas as pd"
   ],
   "outputs": [],
   "execution_count": 1
  },
  {
   "metadata": {
    "ExecuteTime": {
     "end_time": "2025-07-09T10:21:47.043052Z",
     "start_time": "2025-07-09T10:21:47.040439Z"
    }
   },
   "cell_type": "code",
   "source": [
    "p_count = 3\n",
    "# Format: Name, Preis, Gewicht\n",
    "products = [[\"Edelstein\", 30, 2], [\"Epoxidharz\", 10, 1], [\"Kupfer\", 100, 6]]\n",
    "w_max = 56"
   ],
   "id": "63250c595d9a2024",
   "outputs": [],
   "execution_count": 4
  },
  {
   "metadata": {},
   "cell_type": "code",
   "outputs": [],
   "execution_count": null,
   "source": "",
   "id": "ee2a07c118c7589a"
  }
 ],
 "metadata": {
  "kernelspec": {
   "display_name": "Python 3",
   "language": "python",
   "name": "python3"
  },
  "language_info": {
   "codemirror_mode": {
    "name": "ipython",
    "version": 2
   },
   "file_extension": ".py",
   "mimetype": "text/x-python",
   "name": "python",
   "nbconvert_exporter": "python",
   "pygments_lexer": "ipython2",
   "version": "2.7.6"
  }
 },
 "nbformat": 4,
 "nbformat_minor": 5
}
