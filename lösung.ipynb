{
 "cells": [
  {
   "cell_type": "code",
   "execution_count": 31,
   "id": "initial_id",
   "metadata": {
    "ExecuteTime": {
     "end_time": "2025-07-09T13:36:16.850746Z",
     "start_time": "2025-07-09T13:36:16.582402Z"
    },
    "collapsed": true
   },
   "outputs": [],
   "source": [
    "import numpy as np\n",
    "import pandas as pd"
   ]
  },
  {
   "cell_type": "markdown",
   "id": "aaa2d53572a0549b",
   "metadata": {},
   "source": [
    "### Aufgabe 1\n",
    "Format für products: Name, Preis, Gewicht"
   ]
  },
  {
   "cell_type": "code",
   "execution_count": 32,
   "id": "63250c595d9a2024",
   "metadata": {
    "ExecuteTime": {
     "end_time": "2025-07-09T13:36:18.407116Z",
     "start_time": "2025-07-09T13:36:18.404168Z"
    }
   },
   "outputs": [],
   "source": [
    "products = np.array([\"Edelstein\",\"Epoxidharz\",\"Kupfer\"])\n",
    "profits = np.array([30, 10, 100])\n",
    "weights = np.array([2, 1, 6])\n",
    "\n"
   ]
  },
  {
   "cell_type": "code",
   "execution_count": 33,
   "id": "7a10949925787f8e",
   "metadata": {
    "ExecuteTime": {
     "end_time": "2025-07-09T13:36:21.559264Z",
     "start_time": "2025-07-09T13:36:21.555491Z"
    }
   },
   "outputs": [],
   "source": [
    "# Jedes Szenario wird durchlaufen (BruteForce)\n",
    "def check_constraints(ed, ku, w_total, u_total, w_max, u_max):\n",
    "    return ku <= 2 * ed and w_total <= w_max and u_total <= u_max\n",
    "\n",
    "def optimize(u_max, w_max):\n",
    "    results = []\n",
    "    u_max = u_max\n",
    "    for ed in range(u_max):\n",
    "        for ep in range(u_max):\n",
    "            for ku in range(u_max):\n",
    "                u_total = ed + ep + ku\n",
    "                w_total = weights[0] * ed + weights[1] * ep + weights[2] * ku\n",
    "                if check_constraints(ed, ku, w_total, u_total, w_max, u_max):\n",
    "                    profit = profits[0] * ed + profits[1] * ep + profits[2] * ku\n",
    "                    results.append({\n",
    "                        \"Gewinn\": profit,\n",
    "                        \"Gewicht\": w_total,\n",
    "                        \"Einheiten\": u_total,\n",
    "                        \"Edelstein\": ed,\n",
    "                        \"Epoxidharz\": ep,\n",
    "                        \"Kupfer\": ku\n",
    "                    })\n",
    "\n",
    "    return results\n"
   ]
  },
  {
   "cell_type": "code",
   "execution_count": 34,
   "id": "574ee1be924f5db9",
   "metadata": {
    "ExecuteTime": {
     "end_time": "2025-07-09T13:41:08.239856Z",
     "start_time": "2025-07-09T13:41:08.233498Z"
    }
   },
   "outputs": [],
   "source": [
    "max_units = 15\n",
    "max_weight = 56\n",
    "optimized_products = optimize(max_units, max_weight)\n",
    "df = pd.DataFrame(optimized_products)\n",
    "# Optimized_Products wird nach Gewinn sortiert und es werden nur die \"Top 10\" angezeigt\n",
    "sorted_df = df.sort_values(by=\"Gewinn\", ascending=False).reset_index(drop=True).loc[:10]"
   ]
  },
  {
   "cell_type": "code",
   "execution_count": 35,
   "id": "14106d13e666d3fb",
   "metadata": {
    "ExecuteTime": {
     "end_time": "2025-07-09T13:41:29.728781Z",
     "start_time": "2025-07-09T13:41:29.724282Z"
    }
   },
   "outputs": [
    {
     "name": "stdout",
     "output_type": "stream",
     "text": [
      "    Gewinn  Gewicht  Einheiten  Edelstein  Epoxidharz  Kupfer\n",
      "0      920       56         12          4           0       8\n",
      "1      910       56         14          7           0       7\n",
      "2      900       56         15          6           2       7\n",
      "3      890       55         14          6           1       7\n",
      "4      880       55         15          5           3       7\n",
      "5      880       54         13          6           0       7\n",
      "6      870       54         15          9           0       6\n",
      "7      870       54         14          5           2       7\n",
      "8      860       53         13          5           1       7\n",
      "9      860       54         15          4           4       7\n",
      "10     850       53         15          8           1       6\n"
     ]
    }
   ],
   "source": [
    "print(sorted_df)"
   ]
  }
 ],
 "metadata": {
  "kernelspec": {
   "display_name": "base",
   "language": "python",
   "name": "python3"
  },
  "language_info": {
   "codemirror_mode": {
    "name": "ipython",
    "version": 3
   },
   "file_extension": ".py",
   "mimetype": "text/x-python",
   "name": "python",
   "nbconvert_exporter": "python",
   "pygments_lexer": "ipython3",
   "version": "3.13.5"
  }
 },
 "nbformat": 4,
 "nbformat_minor": 5
}
