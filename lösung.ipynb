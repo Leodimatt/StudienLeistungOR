{
 "cells": [
  {
   "cell_type": "code",
   "id": "initial_id",
   "metadata": {
    "collapsed": true,
    "ExecuteTime": {
     "end_time": "2025-07-09T13:36:16.850746Z",
     "start_time": "2025-07-09T13:36:16.582402Z"
    }
   },
   "source": [
    "import numpy as np\n",
    "import pandas as pd"
   ],
   "outputs": [],
   "execution_count": 2
  },
  {
   "metadata": {},
   "cell_type": "markdown",
   "source": [
    "### Aufgabe 1\n",
    "Format für products: Name, Preis, Gewicht"
   ],
   "id": "aaa2d53572a0549b"
  },
  {
   "metadata": {
    "ExecuteTime": {
     "end_time": "2025-07-09T13:36:18.407116Z",
     "start_time": "2025-07-09T13:36:18.404168Z"
    }
   },
   "cell_type": "code",
   "source": [
    "products = np.array([\"Edelstein\",\"Epoxidharz\",\"Kupfer\"])\n",
    "profits = np.array([30, 10, 100])\n",
    "weights = np.array([2, 1, 6])\n",
    "\n"
   ],
   "id": "63250c595d9a2024",
   "outputs": [],
   "execution_count": 3
  },
  {
   "metadata": {
    "ExecuteTime": {
     "end_time": "2025-07-09T13:36:21.559264Z",
     "start_time": "2025-07-09T13:36:21.555491Z"
    }
   },
   "cell_type": "code",
   "source": [
    "# Jedes Szenario wird durchlaufen (BruteForce)\n",
    "def check_constraints(ed, ku, w_total, u_total, w_max, u_max):\n",
    "    return ku*2 <= ed and w_total <= w_max and u_total <= u_max\n",
    "\n",
    "def optimize(u_max, w_max):\n",
    "    results = []\n",
    "    u_max = u_max + 1\n",
    "    for ed in range(u_max):\n",
    "        for ep in range(u_max):\n",
    "            for ku in range(u_max):\n",
    "                u_total = ed + ep + ku\n",
    "                w_total = weights[0] * ed + weights[1] * ep + weights[2] * ku\n",
    "                if check_constraints(ed, ku, w_total, u_total, w_max, u_max):\n",
    "                    profit = profits[0] * ed + profits[1] * ep + profits[2] * ku\n",
    "                    results.append({\n",
    "                        \"Gewinn\": profit,\n",
    "                        \"Gewicht\": w_total,\n",
    "                        \"Einheiten\": u_total,\n",
    "                        \"Edelstein\": ed,\n",
    "                        \"Epoxidharz\": ep,\n",
    "                        \"Kupfer\": ku\n",
    "                    })\n",
    "\n",
    "    return results\n"
   ],
   "id": "7a10949925787f8e",
   "outputs": [],
   "execution_count": 5
  },
  {
   "metadata": {
    "ExecuteTime": {
     "end_time": "2025-07-09T13:41:08.239856Z",
     "start_time": "2025-07-09T13:41:08.233498Z"
    }
   },
   "cell_type": "code",
   "source": [
    "max_units = 15\n",
    "max_weight = 56\n",
    "optimized_products = optimize(max_units, max_weight)\n",
    "df = pd.DataFrame(optimized_products)\n",
    "# Optimized_Products wird nach Gewinn sortiert und es werden nur die \"Top 10\" angezeigt\n",
    "sorted_df = df.sort_values(by=\"Gewinn\", ascending=False).reset_index(drop=True).loc[:10]"
   ],
   "id": "574ee1be924f5db9",
   "outputs": [],
   "execution_count": 12
  },
  {
   "metadata": {
    "ExecuteTime": {
     "end_time": "2025-07-09T13:41:29.728781Z",
     "start_time": "2025-07-09T13:41:29.724282Z"
    }
   },
   "cell_type": "code",
   "source": "print(sorted_df)",
   "id": "14106d13e666d3fb",
   "outputs": [
    {
     "name": "stdout",
     "output_type": "stream",
     "text": [
      "    Gewinn  Gewicht  Einheiten  Edelstein  Epoxidharz  Kupfer\n",
      "0      830       52         16         11           0       5\n",
      "1      810       51         16         10           1       5\n",
      "2      800       50         15         10           0       5\n",
      "3      760       48         16         12           0       4\n",
      "4      740       47         16         11           1       4\n",
      "5      730       46         15         11           0       4\n",
      "6      720       46         16         10           2       4\n",
      "7      710       45         15         10           1       4\n",
      "8      700       45         16          9           3       4\n",
      "9      700       44         14         10           0       4\n",
      "10     690       44         15          9           2       4\n",
      "Gewinn        830\n",
      "Gewicht        52\n",
      "Einheiten      16\n",
      "Edelstein      11\n",
      "Epoxidharz      0\n",
      "Kupfer          5\n",
      "Name: 0, dtype: int64\n"
     ]
    }
   ],
   "execution_count": 15
  }
 ],
 "metadata": {
  "kernelspec": {
   "display_name": "Python 3",
   "language": "python",
   "name": "python3"
  },
  "language_info": {
   "codemirror_mode": {
    "name": "ipython",
    "version": 2
   },
   "file_extension": ".py",
   "mimetype": "text/x-python",
   "name": "python",
   "nbconvert_exporter": "python",
   "pygments_lexer": "ipython2",
   "version": "2.7.6"
  }
 },
 "nbformat": 4,
 "nbformat_minor": 5
}
