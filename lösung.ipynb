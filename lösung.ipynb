{
 "cells": [
  {
   "cell_type": "code",
   "execution_count": 21,
   "id": "initial_id",
   "metadata": {
    "ExecuteTime": {
     "end_time": "2025-07-09T13:36:16.850746Z",
     "start_time": "2025-07-09T13:36:16.582402Z"
    },
    "collapsed": true
   },
   "outputs": [],
   "source": [
    "import numpy as np\n",
    "import pandas as pd"
   ]
  },
  {
   "cell_type": "markdown",
   "id": "aaa2d53572a0549b",
   "metadata": {},
   "source": [
    "### Aufgabe 1\n",
    "Format für products: Name, Preis, Gewicht"
   ]
  },
  {
   "cell_type": "code",
   "execution_count": 22,
   "id": "63250c595d9a2024",
   "metadata": {
    "ExecuteTime": {
     "end_time": "2025-07-09T13:36:18.407116Z",
     "start_time": "2025-07-09T13:36:18.404168Z"
    }
   },
   "outputs": [],
   "source": [
    "products = np.array([\"Edelstein\",\"Epoxidharz\",\"Kupfer\"])\n",
    "profits = np.array([30, 10, 100])\n",
    "weights = np.array([2, 1, 6])\n",
    "\n"
   ]
  },
  {
   "cell_type": "code",
   "execution_count": 23,
   "id": "7a10949925787f8e",
   "metadata": {
    "ExecuteTime": {
     "end_time": "2025-07-09T13:36:21.559264Z",
     "start_time": "2025-07-09T13:36:21.555491Z"
    }
   },
   "outputs": [],
   "source": [
    "# Jedes Szenario wird durchlaufen (BruteForce)\n",
    "def check_constraints(ed, ku, w_total, u_total, w_max, u_max):\n",
    "    return ku*2 <= ed and w_total <= w_max and u_total <= u_max\n",
    "\n",
    "def optimize(u_max, w_max):\n",
    "    results = []\n",
    "    u_max = u_max\n",
    "    for ed in range(u_max):\n",
    "        for ep in range(u_max):\n",
    "            for ku in range(u_max):\n",
    "                u_total = ed + ep + ku\n",
    "                w_total = weights[0] * ed + weights[1] * ep + weights[2] * ku\n",
    "                if check_constraints(ed, ku, w_total, u_total, w_max, u_max):\n",
    "                    profit = profits[0] * ed + profits[1] * ep + profits[2] * ku\n",
    "                    results.append({\n",
    "                        \"Gewinn\": profit,\n",
    "                        \"Gewicht\": w_total,\n",
    "                        \"Einheiten\": u_total,\n",
    "                        \"Edelstein\": ed,\n",
    "                        \"Epoxidharz\": ep,\n",
    "                        \"Kupfer\": ku\n",
    "                    })\n",
    "\n",
    "    return results\n"
   ]
  },
  {
   "cell_type": "code",
   "execution_count": 24,
   "id": "574ee1be924f5db9",
   "metadata": {
    "ExecuteTime": {
     "end_time": "2025-07-09T13:41:08.239856Z",
     "start_time": "2025-07-09T13:41:08.233498Z"
    }
   },
   "outputs": [],
   "source": [
    "max_units = 15\n",
    "max_weight = 56\n",
    "optimized_products = optimize(max_units, max_weight)\n",
    "df = pd.DataFrame(optimized_products)\n",
    "# Optimized_Products wird nach Gewinn sortiert und es werden nur die \"Top 10\" angezeigt\n",
    "sorted_df = df.sort_values(by=\"Gewinn\", ascending=False).reset_index(drop=True).loc[:10]"
   ]
  },
  {
   "cell_type": "code",
   "execution_count": 25,
   "id": "14106d13e666d3fb",
   "metadata": {
    "ExecuteTime": {
     "end_time": "2025-07-09T13:41:29.728781Z",
     "start_time": "2025-07-09T13:41:29.724282Z"
    }
   },
   "outputs": [
    {
     "name": "stdout",
     "output_type": "stream",
     "text": [
      "    Gewinn  Gewicht  Einheiten  Edelstein  Epoxidharz  Kupfer\n",
      "0      800       50         15         10           0       5\n",
      "1      730       46         15         11           0       4\n",
      "2      710       45         15         10           1       4\n",
      "3      700       44         14         10           0       4\n",
      "4      690       44         15          9           2       4\n",
      "5      680       43         14          9           1       4\n",
      "6      670       42         13          9           0       4\n",
      "7      670       43         15          8           3       4\n",
      "8      660       42         14          8           2       4\n",
      "9      660       42         15         12           0       3\n",
      "10     650       41         13          8           1       4\n"
     ]
    }
   ],
   "source": [
    "print(sorted_df)"
   ]
  }
 ],
 "metadata": {
  "kernelspec": {
   "display_name": "base",
   "language": "python",
   "name": "python3"
  },
  "language_info": {
   "codemirror_mode": {
    "name": "ipython",
    "version": 3
   },
   "file_extension": ".py",
   "mimetype": "text/x-python",
   "name": "python",
   "nbconvert_exporter": "python",
   "pygments_lexer": "ipython3",
   "version": "3.13.5"
  }
 },
 "nbformat": 4,
 "nbformat_minor": 5
}
